{
 "cells": [
  {
   "cell_type": "code",
   "execution_count": 7,
   "id": "5b825ab1-af8a-4808-977f-686e5f124442",
   "metadata": {},
   "outputs": [
    {
     "name": "stdout",
     "output_type": "stream",
     "text": [
      "Defaulting to user installation because normal site-packages is not writeable\n",
      "Collecting readability-lxml\n",
      "  Downloading readability_lxml-0.8.1-py3-none-any.whl (20 kB)\n",
      "Requirement already satisfied: lxml in ./.local/lib/python3.9/site-packages (from readability-lxml) (5.3.0)\n",
      "Collecting cssselect\n",
      "  Downloading cssselect-1.2.0-py2.py3-none-any.whl (18 kB)\n",
      "Requirement already satisfied: chardet in /apps/cent7/jupyterhub/lib/python3.9/site-packages (from readability-lxml) (4.0.0)\n",
      "Installing collected packages: cssselect, readability-lxml\n",
      "Successfully installed cssselect-1.2.0 readability-lxml-0.8.1\n",
      "Note: you may need to restart the kernel to use updated packages.\n"
     ]
    }
   ],
   "source": [
    "pip install readability-lxml\n"
   ]
  },
  {
   "cell_type": "code",
   "execution_count": 8,
   "id": "51ce3ced-d718-4d94-85f9-6fa336a5a10e",
   "metadata": {},
   "outputs": [],
   "source": [
    "reference_output = \"\"\"[\n",
    "    {\n",
    "    \"concern\": \"International Data Transfer\",\n",
    "    \"description\": \"Users may not be aware that their personal information will be processed and stored in the United States, which may have different data protection standards than their home country.\",\n",
    "    \"risk_level\": \"High\",\n",
    "    \"recommendation\": \"Provide more transparency about data transfer risks and offer users the ability to opt out or limit data sharing with the U.S.\"\n",
    "},\n",
    "{\n",
    "    \"concern\": \"Third-Party Credit Card Processing\",\n",
    "    \"description\": \"Credit card information is processed by third-party service providers, raising concerns about the security and confidentiality of sensitive financial data.\",\n",
    "    \"risk_level\": \"High\",\n",
    "    \"recommendation\": \"Ensure third-party providers comply with industry standards and provide users with more information about data handling practices.\"\n",
    "},\n",
    "{\n",
    "    \"concern\": \"Google User Data Collection\",\n",
    "    \"description\": \"Personal data, including users' Google account information (name, email, profile picture), is collected without clear, informed consent on how the data will be used and shared.\",\n",
    "    \"risk_level\": \"High\",\n",
    "    \"recommendation\": \"Explicitly inform users about the data being collected and obtain clear consent before accessing and storing Google account information.\"\n",
    "},\n",
    "{\n",
    "    \"concern\": \"Public Search Listings\",\n",
    "    \"description\": \"Personal information from the Individual Site (name, title, profile picture) is made publicly visible through search engines, which could lead to unintentional exposure.\",\n",
    "    \"risk_level\": \"Medium\",\n",
    "    \"recommendation\": \"Allow users to have full control over the visibility of their information and ensure clear consent before making any data public.\"\n",
    "},\n",
    "{\n",
    "    \"concern\": \"Ambiguous Consent for Data Collection\",\n",
    "    \"description\": \"The policy states that personal information is collected voluntarily, but it lacks clarity on what data is being collected, how it will be used, and for what purpose.\",\n",
    "    \"risk_level\": \"High\",\n",
    "    \"recommendation\": \"Implement a clearer and more detailed consent process with specific explanations of data usage and collection.\"\n",
    "},\n",
    "{\n",
    "    \"concern\": \"Data Retention and Deletion\",\n",
    "    \"description\": \"Users can withdraw consent, but there is no clear process or assurance regarding the deletion of their data after consent is revoked.\",\n",
    "    \"risk_level\": \"Medium\",\n",
    "    \"recommendation\": \"Provide users with a clear and accessible method to request data deletion and ensure that withdrawal of consent results in the complete removal of personal information.\"\n",
    "},\n",
    "{\n",
    "    \"concern\": \"Mobile Data Collection\",\n",
    "    \"description\": \"The collection of mobile device information (device type, operating system) may be done without clear user consent, raising concerns about privacy and unnecessary tracking.\",\n",
    "    \"risk_level\": \"Medium\",\n",
    "    \"recommendation\": \"Obtain explicit consent from users before collecting any device-related information and provide an option to opt out of such data collection.\"\n",
    "}\n",
    "\n",
    "]\"\"\"\n",
    "\n",
    "\n",
    "\n",
    "user_output = \"\"\"[\n",
    "  {\n",
    "    \"concern\": \"Data Privacy\",\n",
    "    \"description\": \"CaringBridge collects personal information, including credit card information, and stores it in the United States. This may pose a risk to users' privacy.\",\n",
    "    \"risk_level\": \"High\",\n",
    "    \"recommendation\": \"Request explicit consent clauses before collecting and storing sensitive information.\"\n",
    "  },\n",
    "  {\n",
    "    \"concern\": \"International Data Transfer\",\n",
    "    \"description\": \"CaringBridge processes and stores user data in the United States, potentially violating users' local privacy laws.\",\n",
    "    \"risk_level\": \"High\",\n",
    "    \"recommendation\": \"Negotiate clauses that ensure compliance with international data transfer regulations.\"\n",
    "  },\n",
    "  {\n",
    "    \"concern\": \"Data Retention\",\n",
    "    \"description\": \"CaringBridge stores personal information, including credit card information, and does not retain a copy. However, there is no clear explanation of how long the information is stored.\",\n",
    "    \"risk_level\": \"Medium\",\n",
    "    \"recommendation\": \"Request clarification on data retention periods and procedures.\"\n",
    "  },\n",
    "  {\n",
    "    \"concern\": \"Mobile Device Data Collection\",\n",
    "    \"description\": \"CaringBridge collects device type and operating system information from mobile devices, which may pose a risk to users' privacy.\",\n",
    "    \"risk_level\": \"Low\",\n",
    "    \"recommendation\": \"Request clarification on how this information is used and stored.\"\n",
    "  },\n",
    "  {\n",
    "    \"concern\": \"Third-Party Service Providers\",\n",
    "    \"description\": \"CaringBridge uses third-party service providers to process transactions and handle credit card information. This may pose a risk to users' security.\",\n",
    "    \"risk_level\": \"Medium\",\n",
    "    \"recommendation\": \"Request information on the third-party service providers used and ensure they are compliant with industry standards.\"\n",
    "  }\n",
    "]\"\"\"\n",
    "\n"
   ]
  },
  {
   "cell_type": "code",
   "execution_count": 2,
   "id": "d29f7f84-7508-4fce-a42f-a400edd377af",
   "metadata": {},
   "outputs": [],
   "source": [
    "from rouge_score import rouge_scorer\n",
    "\n",
    "def calculate_rouge(reference, hypothesis):\n",
    "    scorer = rouge_scorer.RougeScorer(['rouge1', 'rouge2', 'rougeL'], use_stemmer=True)\n",
    "    rouge_scores = {'rouge1': [], 'rouge2': [], 'rougeL': []}\n",
    "    \n",
    "    for ref, hyp in zip(reference, hypothesis):\n",
    "        ref_text = f\"{ref['concern']} {ref['description']} {ref['recommendation']}\"\n",
    "        hyp_text = f\"{hyp['concern']} {hyp['description']} {hyp['recommendation']}\"\n",
    "        \n",
    "        score = scorer.score(ref_text, hyp_text)\n",
    "        for key in rouge_scores:\n",
    "            rouge_scores[key].append(score[key].fmeasure)\n",
    "    \n",
    "    avg_rouge = {key: sum(value)/len(value) for key, value in rouge_scores.items()}\n",
    "    return avg_rouge\n",
    "\n"
   ]
  },
  {
   "cell_type": "code",
   "execution_count": 5,
   "id": "7325f9b0-d1fb-41f9-835a-69b2b61730bb",
   "metadata": {},
   "outputs": [],
   "source": [
    "def evaluate_readability(summarized_texts):\n",
    "    # Calculate the Flesch Reading Ease score for each summarized text\n",
    "    readability_scores = [textstat.flesch_reading_ease(text) for text in summarized_texts]\n",
    "\n",
    "    # Calculate the average readability score\n",
    "    avg_readability = sum(readability_scores) / len(readability_scores)\n",
    "\n",
    "    # Return the average readability score\n",
    "    return avg_readability"
   ]
  },
  {
   "cell_type": "code",
   "execution_count": 3,
   "id": "ab0519a2-578a-4b55-8007-16764fd2356d",
   "metadata": {},
   "outputs": [
    {
     "name": "stdout",
     "output_type": "stream",
     "text": [
      "{'rouge1': 0.2599557153036522, 'rouge2': 0.032299922299922304, 'rougeL': 0.1941119667945575}\n"
     ]
    }
   ],
   "source": [
    "rouge_scores = calculate_rouge(reference_output, user_output)\n",
    "print(rouge_scores)\n"
   ]
  },
  {
   "cell_type": "code",
   "execution_count": 10,
   "id": "3ec33a81-2e4b-4a5a-89cc-51febc9191f4",
   "metadata": {},
   "outputs": [
    {
     "name": "stdout",
     "output_type": "stream",
     "text": [
      "142.20220287913725\n"
     ]
    }
   ],
   "source": [
    "import textstat\n",
    "readablity_humanized = evaluate_readability(reference_output)\n",
    "print(readablity_humanized)"
   ]
  },
  {
   "cell_type": "code",
   "execution_count": 12,
   "id": "e85c6fdc-e378-47e1-85b3-3c2e547a901d",
   "metadata": {},
   "outputs": [
    {
     "name": "stdout",
     "output_type": "stream",
     "text": [
      "143.8969439728353\n"
     ]
    }
   ],
   "source": [
    "readablity_llama3 = evaluate_readability(user_output)\n",
    "print(readablity_llama3)"
   ]
  },
  {
   "cell_type": "code",
   "execution_count": null,
   "id": "af5d6f58-2a4f-4b46-b9e1-7bdbff48d4d2",
   "metadata": {},
   "outputs": [],
   "source": []
  }
 ],
 "metadata": {
  "kernelspec": {
   "display_name": "Python 3 (ipykernel)",
   "language": "python",
   "name": "python3"
  },
  "language_info": {
   "codemirror_mode": {
    "name": "ipython",
    "version": 3
   },
   "file_extension": ".py",
   "mimetype": "text/x-python",
   "name": "python",
   "nbconvert_exporter": "python",
   "pygments_lexer": "ipython3",
   "version": "3.9.7"
  }
 },
 "nbformat": 4,
 "nbformat_minor": 5
}
